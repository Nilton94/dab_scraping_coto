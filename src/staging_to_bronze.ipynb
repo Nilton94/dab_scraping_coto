{
 "cells": [
  {
   "cell_type": "markdown",
   "id": "59f68608",
   "metadata": {},
   "source": [
    "# Imports"
   ]
  },
  {
   "cell_type": "code",
   "execution_count": null,
   "id": "4ffd90e3",
   "metadata": {},
   "outputs": [],
   "source": [
    "%pip install aiohttp dotenv polars pytz random_user_agent requests logfire logfire[requests] logfire[system-metrics]      "
   ]
  },
  {
   "cell_type": "code",
   "execution_count": null,
   "id": "9af809e7",
   "metadata": {},
   "outputs": [],
   "source": [
    "import sys\n",
    "from scraping_coto.etl.bronze.staging_to_bronze import load_to_bronze\n",
    "from scraping_coto.utils.spark_session import get_spark"
   ]
  },
  {
   "cell_type": "code",
   "execution_count": null,
   "id": "e8dc3381",
   "metadata": {},
   "outputs": [],
   "source": [
    "dbutils.widgets.text(name='target', defaultValue='dev')\n",
    "bundle_target = dbutils.widgets.get(\"target\")\n",
    "\n",
    "dbutils.widgets.text(name='source_path', defaultValue='.')\n",
    "source_path = dbutils.widgets.get(\"source_path\")\n",
    "\n",
    "sys.path.append(source_path)"
   ]
  },
  {
   "cell_type": "markdown",
   "id": "49084544",
   "metadata": {},
   "source": [
    "# Definitions"
   ]
  },
  {
   "cell_type": "code",
   "execution_count": null,
   "id": "a9ae7c4c",
   "metadata": {},
   "outputs": [],
   "source": [
    "target = 'coto' if bundle_target == 'prod' else f'coto_{bundle_target}'"
   ]
  },
  {
   "cell_type": "code",
   "execution_count": null,
   "id": "167740fb",
   "metadata": {},
   "outputs": [],
   "source": [
    "path_departments = f'/Volumes/{target}/bronze/staging/departments'\n",
    "path_categories = f'/Volumes/{target}/bronze/staging/categories'\n",
    "path_subcategories = f'/Volumes/{target}/bronze/staging/subcategories'"
   ]
  },
  {
   "cell_type": "markdown",
   "id": "5ae3bc34",
   "metadata": {},
   "source": [
    "# Load"
   ]
  },
  {
   "cell_type": "code",
   "execution_count": null,
   "id": "b6cce2aa",
   "metadata": {},
   "outputs": [],
   "source": [
    "await load_to_bronze(get_spark(), type='department', catalog=f'{target}', schema='bronze', table = 'departments')\n",
    "await load_to_bronze(get_spark(), type='category', catalog=f'{target}', schema='bronze', table = 'categories')\n",
    "await load_to_bronze(get_spark(), type='subcategory', catalog=f'{target}', schema='bronze', table = 'subcategories')"
   ]
  }
 ],
 "metadata": {
  "language_info": {
   "name": "python"
  }
 },
 "nbformat": 4,
 "nbformat_minor": 5
}
