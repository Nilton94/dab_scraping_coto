{
 "cells": [
  {
   "cell_type": "markdown",
   "id": "29bbeb33",
   "metadata": {},
   "source": [
    "# Imports"
   ]
  },
  {
   "cell_type": "code",
   "execution_count": null,
   "id": "5d4d7b45",
   "metadata": {},
   "outputs": [],
   "source": [
    "import sys"
   ]
  },
  {
   "cell_type": "code",
   "execution_count": null,
   "id": "4facb5c8",
   "metadata": {},
   "outputs": [],
   "source": [
    "dbutils.widgets.text(name='target', defaultValue='dev')\n",
    "bundle_target = dbutils.widgets.get(\"target\")\n",
    "\n",
    "dbutils.widgets.text(name='source_path', defaultValue='.')\n",
    "source_path = dbutils.widgets.get(\"source_path\")\n",
    "\n",
    "sys.path.append(source_path)\n",
    "\n",
    "print(\n",
    "    f\"Bundle target: {bundle_target}\",\n",
    "    f\"Source path: {source_path}\",\n",
    "    sep=\"\\n\"\n",
    ")"
   ]
  },
  {
   "cell_type": "markdown",
   "id": "f1e7baff",
   "metadata": {},
   "source": [
    "# Code"
   ]
  },
  {
   "cell_type": "markdown",
   "id": "d5f21852",
   "metadata": {},
   "source": [
    "## Check Catalogs"
   ]
  },
  {
   "cell_type": "code",
   "execution_count": null,
   "id": "03aba205",
   "metadata": {},
   "outputs": [],
   "source": [
    "target = 'coto' if bundle_target == 'prod' else f'coto_{bundle_target}'"
   ]
  },
  {
   "cell_type": "code",
   "execution_count": null,
   "id": "b908e079",
   "metadata": {},
   "outputs": [],
   "source": [
    "spark.sql(f'CREATE CATALOG IF NOT EXISTS {target} COMMENT \"Catálogo para os dados extraídos do site Coto na camada de {bundle_target}\";')\n",
    "spark.sql(f'CREATE SCHEMA IF NOT EXISTS {target}.bronze COMMENT \"Camada Bronze para os Dados do Coto\";')\n",
    "spark.sql(f'CREATE SCHEMA IF NOT EXISTS {target}.silver COMMENT \"Camada Silver para os Dados do Coto\";')\n",
    "spark.sql(f'CREATE SCHEMA IF NOT EXISTS {target}.gold COMMENT \"Camada Gold para os Dados do Coto\";')\n",
    "spark.sql(f'CREATE VOLUME IF NOT EXISTS {target}.bronze.staging COMMENT \"Staging para dados macro de departamentos e suas categorias/subcategorias\";')"
   ]
  },
  {
   "cell_type": "markdown",
   "id": "b693635d",
   "metadata": {},
   "source": [
    "## Check Volumes"
   ]
  },
  {
   "cell_type": "code",
   "execution_count": null,
   "id": "36fd294c",
   "metadata": {},
   "outputs": [],
   "source": [
    "dbutils.fs.mkdirs(f'/Volumes/{target}/bronze/staging/departments')\n",
    "dbutils.fs.mkdirs(f'/Volumes/{target}/bronze/staging/categories')\n",
    "dbutils.fs.mkdirs(f'/Volumes/{target}/bronze/staging/subcategories')\n",
    "dbutils.fs.mkdirs(f'/Volumes/{target}/bronze/staging/items')"
   ]
  }
 ],
 "metadata": {
  "language_info": {
   "name": "python"
  }
 },
 "nbformat": 4,
 "nbformat_minor": 5
}
