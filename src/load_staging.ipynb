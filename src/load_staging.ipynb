{
 "cells": [
  {
   "cell_type": "markdown",
   "id": "9ee02b4f",
   "metadata": {},
   "source": [
    "# Imports"
   ]
  },
  {
   "cell_type": "code",
   "execution_count": null,
   "id": "a1a268be",
   "metadata": {},
   "outputs": [],
   "source": [
    "%pip install aiohttp dotenv polars pytz random_user_agent requests         "
   ]
  },
  {
   "cell_type": "code",
   "execution_count": null,
   "id": "65402c9b",
   "metadata": {},
   "outputs": [],
   "source": [
    "import sys\n",
    "from scraping_coto.etl.staging.extract_urls import CotoScraper, CotoScraperTotalItems\n",
    "from scraping_coto.utils.json import loader"
   ]
  },
  {
   "cell_type": "code",
   "execution_count": null,
   "id": "9691dbcc",
   "metadata": {},
   "outputs": [],
   "source": [
    "dbutils.widgets.text(name='target', defaultValue='dev')\n",
    "bundle_target = dbutils.widgets.get(\"target\")\n",
    "\n",
    "dbutils.widgets.text(name='source_path', defaultValue='.')\n",
    "source_path = dbutils.widgets.get(\"source_path\")\n",
    "\n",
    "sys.path.append(source_path)"
   ]
  },
  {
   "cell_type": "markdown",
   "id": "9bb13276",
   "metadata": {},
   "source": [
    "# Definitions"
   ]
  },
  {
   "cell_type": "code",
   "execution_count": null,
   "id": "5128d0c3",
   "metadata": {},
   "outputs": [],
   "source": [
    "path_departments = f'/Volumes/coto_{bundle_target}/bronze/staging/departments'\n",
    "path_categories = f'/Volumes/coto_{bundle_target}/bronze/staging/categories'\n",
    "path_subcategories = f'/Volumes/coto_{bundle_target}/bronze/staging/subcategories'"
   ]
  },
  {
   "cell_type": "code",
   "execution_count": null,
   "id": "68870160",
   "metadata": {},
   "outputs": [],
   "source": [
    "df_departments = CotoScraper().get_general_urls()\n",
    "df_categories = await CotoScraperTotalItems().get_total_items(prefix='category')\n",
    "df_subcategories = await CotoScraperTotalItems().get_total_items(prefix='subcategory')"
   ]
  },
  {
   "cell_type": "markdown",
   "id": "7da1dbac",
   "metadata": {},
   "source": [
    "# Load"
   ]
  },
  {
   "cell_type": "code",
   "execution_count": null,
   "id": "0718fc77",
   "metadata": {},
   "outputs": [],
   "source": [
    "loader(file=df_departments, file_path=path_departments, file_name='departments')\n",
    "loader(file=df_categories, file_path=path_categories, file_name='categories')\n",
    "loader(file=df_subcategories, file_path=path_subcategories, file_name='subcategories')"
   ]
  }
 ],
 "metadata": {
  "language_info": {
   "name": "python"
  }
 },
 "nbformat": 4,
 "nbformat_minor": 5
}
